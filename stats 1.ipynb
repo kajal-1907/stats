{
 "cells": [
  {
   "cell_type": "markdown",
   "id": "6174d0e1-46b9-4488-8689-68bf43c7aee8",
   "metadata": {},
   "source": [
    "Question1: Define the z-statistic and explain its relationship to the standard normal distribution. How is the\n",
    "z-statistic used in hypothesis testing?"
   ]
  },
  {
   "cell_type": "markdown",
   "id": "a694bdfb-5694-4cd6-b500-75b4b1bd0199",
   "metadata": {},
   "source": [
    "The **z-statistic** is a standardized value that indicates how many standard deviations an element is from the mean of a distribution. It is calculated using the formula:\n",
    "\n",
    "\\[\n",
    "z = \\frac{(X - \\mu)}{\\sigma}\n",
    "\\]\n",
    "\n",
    "where:\n",
    "- \\(X\\) is the value being standardized,\n",
    "- \\(\\mu\\) is the mean of the population, and\n",
    "- \\(\\sigma\\) is the standard deviation of the population.\n",
    "\n",
    "### Relationship to the Standard Normal Distribution\n",
    "\n",
    "The z-statistic is directly related to the **standard normal distribution**, which is a normal distribution with a mean of 0 and a standard deviation of 1. When data is transformed into z-scores, it allows for the comparison of values from different normal distributions. The z-statistic follows a standard normal distribution, enabling the use of z-tables to find probabilities and critical values.\n",
    "\n",
    "### Use in Hypothesis Testing\n",
    "\n",
    "In hypothesis testing, the z-statistic helps determine whether to reject the null hypothesis (\\(H_0\\)). Here's how it is used:\n",
    "\n",
    "1. **Formulate Hypotheses**: Set up the null hypothesis and an alternative hypothesis.\n",
    "2. **Collect Data**: Gather sample data and calculate the sample mean (\\(\\bar{X}\\)) and standard deviation (\\(s\\)).\n",
    "3. **Calculate the z-statistic**: Use the sample mean to calculate the z-statistic based on the null hypothesis population mean.\n",
    "4. **Determine the Significance Level**: Decide on a significance level (commonly \\(\\alpha = 0.05\\)).\n",
    "5. **Compare to Critical Value**: Use the z-distribution to find the critical z-value corresponding to the significance level.\n",
    "6. **Make a Decision**: If the calculated z-statistic falls beyond the critical value, reject the null hypothesis. If it falls within the range, do not reject it.\n",
    "\n",
    "By utilizing the z-statistic, researchers can assess whether the observed data significantly deviates from what would be expected under the null hypothesis."
   ]
  },
  {
   "cell_type": "markdown",
   "id": "9b4f065f-69d3-469c-89e5-3a886242d3f2",
   "metadata": {},
   "source": [
    "Question2 : What is a p-value, and how is it used in hypothesis testing? What does it mean if the p-value is\n",
    "very small (e.g., 0.01)?\n",
    "\n",
    "\n",
    "\n"
   ]
  },
  {
   "cell_type": "markdown",
   "id": "bb863193-9028-4203-8a2a-bff97e5dbf3a",
   "metadata": {},
   "source": [
    "A **p-value** (probability value) is a measure used in hypothesis testing to quantify the strength of evidence against the null hypothesis (\\(H_0\\)). It represents the probability of obtaining results at least as extreme as the observed data, assuming that the null hypothesis is true.\n",
    "\n",
    "### Use in Hypothesis Testing\n",
    "\n",
    "1. **Formulate Hypotheses**: Begin with a null hypothesis (\\(H_0\\)) and an alternative hypothesis (\\(H_a\\)).\n",
    "2. **Collect Data**: Gather sample data and perform the necessary calculations (e.g., calculate the test statistic).\n",
    "3. **Calculate the p-value**: Based on the test statistic, determine the p-value, which indicates the probability of observing the data or something more extreme under the null hypothesis.\n",
    "4. **Compare to Significance Level**: Compare the p-value to a predetermined significance level (\\(\\alpha\\), often set at 0.05).\n",
    "   - If \\(p \\leq \\alpha\\), reject the null hypothesis.\n",
    "   - If \\(p > \\alpha\\), do not reject the null hypothesis.\n",
    "\n",
    "### Interpretation of a Small p-value\n",
    "\n",
    "If the p-value is very small (e.g., 0.01), it indicates strong evidence against the null hypothesis. Specifically:\n",
    "\n",
    "- A p-value of 0.01 suggests that there is only a 1% probability of observing the sample data (or something more extreme) if the null hypothesis is true.\n",
    "- This low probability implies that the observed result is unlikely to have occurred by random chance alone, leading researchers to consider rejecting the null hypothesis in favor of the alternative hypothesis (\\(H_a\\)).\n",
    "- In practical terms, a small p-value often signals that the effect or relationship being tested is statistically significant, suggesting that further investigation or consideration of the alternative hypothesis may be warranted. \n",
    "\n",
    "Overall, the smaller the p-value, the stronger the evidence against the null hypothesis."
   ]
  },
  {
   "cell_type": "markdown",
   "id": "f52cfd7e-8362-467a-bdae-77c2f2ba88e0",
   "metadata": {},
   "source": [
    "Question3: Compare and contrast the binomial and Bernoulli distributions. "
   ]
  },
  {
   "cell_type": "markdown",
   "id": "d4092c1d-ffbf-4e24-bc64-60c4117951d0",
   "metadata": {},
   "source": [
    "The **Bernoulli distribution** and the **binomial distribution** are both discrete probability distributions, but they have distinct characteristics and applications. Here’s a comparison of the two:\n",
    "\n",
    "### Bernoulli Distribution\n",
    "\n",
    "1. **Definition**: The Bernoulli distribution models a single trial with two possible outcomes: success (usually coded as 1) and failure (coded as 0).\n",
    "2. **Parameters**: It has one parameter, \\(p\\), which represents the probability of success. The probability of failure is \\(1 - p\\).\n",
    "3. **Support**: The outcomes are limited to just two values: 0 and 1.\n",
    "4. **Mean and Variance**:\n",
    "   - Mean: \\(E(X) = p\\)\n",
    "   - Variance: \\(Var(X) = p(1 - p)\\)\n",
    "5. **Applications**: The Bernoulli distribution is used to model scenarios where there is a single experiment or trial, such as flipping a coin once, a yes/no survey response, or any event that can result in a binary outcome.\n",
    "\n",
    "### Binomial Distribution\n",
    "\n",
    "1. **Definition**: The binomial distribution models the number of successes in a fixed number of independent Bernoulli trials (n trials).\n",
    "2. **Parameters**: It has two parameters: \\(n\\) (the number of trials) and \\(p\\) (the probability of success on each trial).\n",
    "3. **Support**: The possible outcomes range from 0 to \\(n\\), where \\(n\\) is the total number of trials.\n",
    "4. **Mean and Variance**:\n",
    "   - Mean: \\(E(X) = np\\)\n",
    "   - Variance: \\(Var(X) = np(1 - p)\\)\n",
    "5. **Applications**: The binomial distribution is used when considering multiple trials of a binary experiment, such as counting the number of heads in multiple coin flips, the number of defective items in a batch, or the number of successes in a series of independent experiments.\n",
    "\n",
    "### Summary of Key Differences\n",
    "\n",
    "- **Nature of Trials**: Bernoulli is a single trial, while binomial involves multiple trials.\n",
    "- **Parameters**: Bernoulli has one parameter (\\(p\\)), and binomial has two parameters (\\(n\\) and \\(p\\)).\n",
    "- **Outcome Range**: Bernoulli outcomes are binary (0 or 1), whereas binomial outcomes can be any integer from 0 to \\(n\\).\n",
    "\n",
    "In essence, the Bernoulli distribution is a special case of the binomial distribution where \\(n = 1\\)."
   ]
  },
  {
   "cell_type": "markdown",
   "id": "10cc5d0e-b4e4-417f-8864-a41095fea73a",
   "metadata": {},
   "source": [
    "Question 4: Under what conditions is the binomial distribution used, and how does it relate to the Bernoulli\n",
    "distribution?"
   ]
  },
  {
   "cell_type": "markdown",
   "id": "b946aabe-f69f-4fe7-a276-4b2f3d66b980",
   "metadata": {},
   "source": [
    "The **binomial distribution** is used under specific conditions that define the nature of the experiments being conducted. Here are the key conditions:\n",
    "\n",
    "### Conditions for Using the Binomial Distribution\n",
    "\n",
    "1. **Fixed Number of Trials**: The number of trials, \\(n\\), must be predetermined and fixed. For example, you might decide to flip a coin 10 times.\n",
    "\n",
    "2. **Two Possible Outcomes**: Each trial must have only two possible outcomes, often referred to as \"success\" and \"failure.\" For instance, in a coin flip, \"heads\" could be a success and \"tails\" a failure.\n",
    "\n",
    "3. **Independent Trials**: The trials must be independent of each other. This means the outcome of one trial does not affect the outcome of another. For example, flipping a coin multiple times is independent; the result of one flip does not influence the next.\n",
    "\n",
    "4. **Constant Probability of Success**: The probability of success, \\(p\\), must remain constant for each trial. For example, if you are flipping a fair coin, the probability of getting heads remains 0.5 for every flip.\n",
    "\n",
    "### Relationship to the Bernoulli Distribution\n",
    "\n",
    "The binomial distribution is directly related to the **Bernoulli distribution** in that it can be thought of as a series of independent Bernoulli trials. Specifically:\n",
    "\n",
    "- **Single Trial**: The Bernoulli distribution models a single trial with two outcomes (success and failure) and has a single parameter \\(p\\) for the probability of success.\n",
    "\n",
    "- **Multiple Trials**: The binomial distribution models the total number of successes in \\(n\\) independent Bernoulli trials. Thus, if you consider \\(n\\) Bernoulli trials, each with the same probability \\(p\\), the number of successes across these trials follows a binomial distribution.\n",
    "\n",
    "In summary, the binomial distribution extends the Bernoulli distribution to multiple trials, allowing us to calculate the probabilities of obtaining a specific number of successes across those trials. The Bernoulli distribution can be viewed as the foundational building block of the binomial distribution, where \\(n = 1\\)."
   ]
  },
  {
   "cell_type": "markdown",
   "id": "617598d5-3203-491b-87a2-24bade1ad76e",
   "metadata": {},
   "source": [
    "Question5: What are the key properties of the Poisson distribution, and when is it appropriate to use this\n",
    "distribution?"
   ]
  },
  {
   "cell_type": "markdown",
   "id": "84f71f1d-1b05-47e0-8a1f-f99daa9cfde9",
   "metadata": {},
   "source": [
    "The **Poisson distribution** is a discrete probability distribution that models the number of events occurring within a fixed interval of time or space. Here are the key properties of the Poisson distribution and its appropriate use cases:\n",
    "\n",
    "### Key Properties of the Poisson Distribution\n",
    "\n",
    "1. **Discrete Nature**: The Poisson distribution deals with the count of events, which can only take non-negative integer values (0, 1, 2, ...).\n",
    "\n",
    "2. **Parameter**: The Poisson distribution is characterized by a single parameter \\(\\lambda\\) (lambda), which represents both the mean and the variance of the distribution. It denotes the average rate of occurrence of events in the specified interval.\n",
    "\n",
    "3. **Memoryless Property**: The Poisson process has a memoryless property in that the number of events occurring in non-overlapping intervals is independent.\n",
    "\n",
    "4. **Probability Mass Function**: The probability of observing \\(k\\) events in a fixed interval is given by the formula:\n",
    "   \\[\n",
    "   P(X = k) = \\frac{\\lambda^k e^{-\\lambda}}{k!}\n",
    "   \\]\n",
    "   where \\(e\\) is the base of the natural logarithm, and \\(k!\\) is the factorial of \\(k\\).\n",
    "\n",
    "5. **Mean and Variance**: For a Poisson distribution with parameter \\(\\lambda\\):\n",
    "   - Mean: \\(E(X) = \\lambda\\)\n",
    "   - Variance: \\(Var(X) = \\lambda\\)\n",
    "\n",
    "### Appropriate Use Cases for the Poisson Distribution\n",
    "\n",
    "The Poisson distribution is appropriate under the following conditions:\n",
    "\n",
    "1. **Event Occurrence in Fixed Intervals**: It is used for counting the number of events that happen in a fixed period of time or space, such as the number of emails received in an hour, the number of customers arriving at a store in a day, or the number of phone calls received at a call center in a shift.\n",
    "\n",
    "2. **Independence of Events**: The events must be independent; the occurrence of one event does not influence the occurrence of another.\n",
    "\n",
    "3. **Low Probability of Event Occurrence**: It is suitable when the probability of an event occurring in a very small interval is low, which makes it appropriate for rare events.\n",
    "\n",
    "4. **Large Number of Trials**: While not strictly necessary, it is often used when dealing with a large number of trials or opportunities for events to occur, even if the actual number of occurrences is relatively small.\n",
    "\n",
    "In summary, the Poisson distribution is a powerful tool for modeling the occurrence of events in fixed intervals, especially when those events are rare and independent."
   ]
  },
  {
   "cell_type": "markdown",
   "id": "dae5dbb8-63e3-4102-8679-51e1be1f57ea",
   "metadata": {},
   "source": [
    "Question6: Define the terms \"probability distribution\" and \"probability density function\" (PDF). How does a\n",
    "PDF differ from a probability mass function (PMF)?"
   ]
  },
  {
   "cell_type": "markdown",
   "id": "1f7c3654-f376-40d8-8746-101293b7e472",
   "metadata": {},
   "source": [
    "### Probability Distribution\n",
    "\n",
    "A **probability distribution** is a mathematical function that describes the likelihood of different outcomes in a random experiment. It provides a complete description of the probabilities associated with all possible outcomes of a random variable. Probability distributions can be classified into two main types:\n",
    "\n",
    "1. **Discrete Probability Distribution**: Deals with discrete random variables, which can take on a countable number of values. Examples include the binomial and Poisson distributions.\n",
    "\n",
    "2. **Continuous Probability Distribution**: Deals with continuous random variables, which can take on an infinite number of values within a given range. Examples include the normal and exponential distributions.\n",
    "\n",
    "### Probability Density Function (PDF)\n",
    "\n",
    "A **probability density function (PDF)** is a specific type of function used in continuous probability distributions. The PDF describes the relative likelihood of a random variable to take on a particular value. The PDF has the following key properties:\n",
    "\n",
    "- The area under the curve of a PDF over a given interval represents the probability of the random variable falling within that interval.\n",
    "- The total area under the entire PDF curve equals 1, reflecting the certainty that the random variable will take some value within its range.\n",
    "- While the PDF can provide probabilities for intervals, it does not give the probability of a specific value (which is always zero for continuous variables).\n",
    "\n",
    "### Difference Between PDF and Probability Mass Function (PMF)\n",
    "\n",
    "- **Nature of Random Variable**:\n",
    "  - **PMF**: Used for **discrete random variables**. It gives the probability that a discrete random variable is equal to a specific value.\n",
    "  - **PDF**: Used for **continuous random variables**. It describes the density of probabilities over a continuous range of values.\n",
    "\n",
    "- **Output**:\n",
    "  - **PMF**: \\(P(X = x)\\) gives the exact probability of the discrete random variable taking the value \\(x\\).\n",
    "  - **PDF**: \\(f(x)\\) provides the density of probability at point \\(x\\), not the probability itself. To find probabilities, you must integrate the PDF over an interval.\n",
    "\n",
    "- **Mathematical Representation**:\n",
    "  - **PMF**: For a discrete random variable \\(X\\), the PMF is defined as:\n",
    "    \\[\n",
    "    P(X = x) = p(x)\n",
    "    \\]\n",
    "  - **PDF**: For a continuous random variable \\(X\\), the PDF is defined such that the probability of \\(X\\) falling within the interval \\([a, b]\\) is given by:\n",
    "    \\[\n",
    "    P(a \\leq X \\leq b) = \\int_a^b f(x) \\, dx\n",
    "    \\]\n",
    "\n",
    "In summary, while both PMF and PDF are used to describe probability distributions, they apply to different types of random variables and have different interpretations regarding how probabilities are calculated."
   ]
  },
  {
   "cell_type": "markdown",
   "id": "3ab3ac9d-1691-4639-979c-87f4c1874482",
   "metadata": {},
   "source": [
    "Question7: Explain the Central Limit Theorem (CLT) with example."
   ]
  },
  {
   "cell_type": "markdown",
   "id": "9ec7dad3-7d78-4f96-8dee-3ddf2e01d257",
   "metadata": {},
   "source": [
    "The **Central Limit Theorem (CLT)** is a fundamental statistical principle that states that, given a sufficiently large sample size, the sampling distribution of the sample mean will be approximately normally distributed, regardless of the shape of the population distribution, provided the samples are independent and identically distributed.\n",
    "\n",
    "### Key Points of the Central Limit Theorem\n",
    "\n",
    "1. **Sample Size**: The theorem holds as the sample size \\(n\\) increases, typically \\(n \\geq 30\\) is considered sufficient for many practical purposes.\n",
    "\n",
    "2. **Sampling Distribution**: The distribution of sample means tends toward a normal distribution as the sample size increases.\n",
    "\n",
    "3. **Mean and Standard Deviation**:\n",
    "   - The mean of the sampling distribution of the sample mean is equal to the population mean (\\(\\mu\\)).\n",
    "   - The standard deviation of the sampling distribution (also called the standard error) is equal to the population standard deviation (\\(\\sigma\\)) divided by the square root of the sample size (\\(\\sigma / \\sqrt{n}\\)).\n",
    "\n",
    "### Example of the Central Limit Theorem\n",
    "\n",
    "**Scenario**: Imagine a population of heights of adult males in a certain city, which follows a skewed distribution (for example, many short individuals and a few very tall individuals).\n",
    "\n",
    "- **Population Characteristics**:\n",
    "  - Mean height (\\(\\mu\\)) = 175 cm\n",
    "  - Standard deviation (\\(\\sigma\\)) = 10 cm\n",
    "\n",
    "**Step 1: Draw Samples**  \n",
    "Now, if we take random samples of size \\(n = 30\\) from this population and calculate the mean height for each sample, we will repeat this many times.\n",
    "\n",
    "**Step 2: Distribution of Sample Means**  \n",
    "According to the CLT, as we keep taking larger samples (with \\(n = 30\\) or more), the distribution of the sample means will start to resemble a normal distribution, even though the original population distribution of heights is skewed.\n",
    "\n",
    "**Step 3: Characteristics of the Sampling Distribution**  \n",
    "- The mean of the sampling distribution will be approximately 175 cm.\n",
    "- The standard deviation of the sampling distribution (standard error) will be:\n",
    "  \\[\n",
    "  SE = \\frac{\\sigma}{\\sqrt{n}} = \\frac{10}{\\sqrt{30}} \\approx 1.83 \\text{ cm}\n",
    "  \\]\n",
    "\n",
    "**Conclusion**: If you were to plot the means of all these samples, you'd find that the shape of the distribution of these means approaches a normal distribution, centered around 175 cm, even though the original population distribution is not normal.\n",
    "\n",
    "### Importance of the Central Limit Theorem\n",
    "\n",
    "The CLT is significant because it justifies the use of normal probability techniques for inference (like confidence intervals and hypothesis testing) even when the original data does not follow a normal distribution, provided that the sample size is large enough. This allows statisticians to make valid conclusions about population parameters based on sample statistics."
   ]
  },
  {
   "cell_type": "markdown",
   "id": "38a4131c-0f59-46bc-b5c3-df016c9a9beb",
   "metadata": {},
   "source": [
    "Question8: Compare z-scores and t-scores. When should you use a z-score, and when should a t-score be applied instead?\n"
   ]
  },
  {
   "cell_type": "markdown",
   "id": "6c3e6248-7903-4ee9-8f76-2cd16817ebc3",
   "metadata": {},
   "source": [
    "Z-scores and t-scores are both standardized scores used in statistics to determine how far a specific data point is from the mean, measured in standard deviations. However, they are used in different contexts.\n",
    "\n",
    "### Z-scores\n",
    "- **Definition**: A z-score indicates how many standard deviations an element is from the mean of the dataset.\n",
    "- **Formula**: \\( z = \\frac{(X - \\mu)}{\\sigma} \\)\n",
    "  - \\( X \\) = value of the data point\n",
    "  - \\( \\mu \\) = mean of the population\n",
    "  - \\( \\sigma \\) = standard deviation of the population\n",
    "- **When to use**:\n",
    "  - When the population standard deviation (\\( \\sigma \\)) is known.\n",
    "  - When the sample size is large (typically \\( n > 30 \\)).\n",
    "  - When the data follows a normal distribution.\n",
    "\n",
    "### T-scores\n",
    "- **Definition**: A t-score is used to determine how many standard deviations a data point is from the sample mean, accounting for sample variability.\n",
    "- **Formula**: \\( t = \\frac{(X - \\bar{X})}{(s / \\sqrt{n})} \\)\n",
    "  - \\( \\bar{X} \\) = sample mean\n",
    "  - \\( s \\) = sample standard deviation\n",
    "  - \\( n \\) = sample size\n",
    "- **When to use**:\n",
    "  - When the population standard deviation is unknown.\n",
    "  - When the sample size is small (typically \\( n \\leq 30 \\)).\n",
    "  - When the data is assumed to follow a normal distribution or if the sample is drawn from a population that is approximately normally distributed.\n",
    "\n"
   ]
  },
  {
   "cell_type": "markdown",
   "id": "5af189d3-b908-4c2e-a689-9bd3fb19a3fd",
   "metadata": {},
   "source": [
    "Question9: Given a sample mean of 105, a population mean of 100, a standard deviation of 15, and a sample\n",
    "size of 25, calculate the z-score and p-value. Based on a significance level of 0.05, do you reject or fail to\n",
    "reject the null hypothesis?\n",
    "\n",
    " Task: Write Python code to calculate the z-score and p-value for the given data.\n",
    "\n",
    "Objective: Apply the formula for the z-score and interpret the p-value for hypothesis testing."
   ]
  },
  {
   "cell_type": "code",
   "execution_count": 20,
   "id": "57c9ac98-69b3-42b0-8ffb-75b87d49b0b8",
   "metadata": {},
   "outputs": [
    {
     "name": "stdout",
     "output_type": "stream",
     "text": [
      "Z-score: 1.6667\n",
      "P-value: 0.0478\n",
      "Reject the null hypothesis.\n"
     ]
    }
   ],
   "source": [
    "import scipy.stats as stats\n",
    "\n",
    "# Given data\n",
    "sample_mean = 105\n",
    "population_mean = 100\n",
    "standard_deviation = 15\n",
    "sample_size = 25\n",
    "\n",
    "# Calculate z-score\n",
    "z_score = (sample_mean - population_mean) / (standard_deviation / (sample_size ** 0.5))\n",
    "\n",
    "# Calculate p-value for a one-tailed test\n",
    "p_value = 1 - stats.norm.cdf(z_score)\n",
    "\n",
    "# Print results\n",
    "print(f\"Z-score: {z_score:.4f}\")\n",
    "print(f\"P-value: {p_value:.4f}\")\n",
    "\n",
    "# Determine whether to reject the null hypothesis\n",
    "alpha = 0.05\n",
    "if p_value < alpha:\n",
    "    print(\"Reject the null hypothesis.\")\n",
    "else:\n",
    "    print(\"Fail to reject the null hypothesis.\")\n"
   ]
  },
  {
   "cell_type": "markdown",
   "id": "2d8497b9-a368-4808-a104-1b6a2527c0fa",
   "metadata": {},
   "source": [
    "Question10: Simulate a binomial distribution with 10 trials and a probability of success of 0.6 using Python.\n",
    "Generate 1,000 samples and plot the distribution. What is the expected mean and variance?\n",
    "\n",
    "Task: Use Python to generate the data, plot the distribution, and calculate the mean and variance.\n",
    "\n",
    "Objective: Understand the properties of a binomial distribution and verify them through simulation."
   ]
  },
  {
   "cell_type": "code",
   "execution_count": 23,
   "id": "f8e88ba6-68a2-454e-a427-bc3b9860ca26",
   "metadata": {},
   "outputs": [
    {
     "name": "stdout",
     "output_type": "stream",
     "text": [
      "Expected Mean: 5.95\n",
      "Expected Variance: 2.24\n"
     ]
    },
    {
     "data": {
      "image/png": "[encoded data removed]",
      "text/plain": [
       "<Figure size 1000x600 with 1 Axes>"
      ]
     },
     "metadata": {},
     "output_type": "display_data"
    }
   ],
   "source": [
    "import numpy as np\n",
    "import matplotlib.pyplot as plt\n",
    "import seaborn as sns\n",
    "\n",
    "# Parameters for the binomial distribution\n",
    "n_trials = 10\n",
    "p_success = 0.6\n",
    "n_samples = 1000\n",
    "\n",
    "# Generate binomial distribution samples\n",
    "samples = np.random.binomial(n_trials, p_success, n_samples)\n",
    "\n",
    "# Calculate mean and variance\n",
    "mean = np.mean(samples)\n",
    "variance = np.var(samples)\n",
    "\n",
    "# Print the results\n",
    "print(f\"Expected Mean: {mean:.2f}\")\n",
    "print(f\"Expected Variance: {variance:.2f}\")\n",
    "\n",
    "# Plot the distribution\n",
    "plt.figure(figsize=(10, 6))\n",
    "sns.histplot(samples, bins=np.arange(-0.5, n_trials + 1.5, 1), stat=\"density\", kde=False)\n",
    "plt.title('Binomial Distribution (n=10, p=0.6)')\n",
    "plt.xlabel('Number of Successes')\n",
    "plt.ylabel('Density')\n",
    "plt.xticks(np.arange(0, n_trials + 1, 1))\n",
    "plt.grid(axis='y')\n",
    "plt.show()\n"
   ]
  },
  {
   "cell_type": "markdown",
   "id": "ed46edaf-ab06-439f-9076-6c616580bd90",
   "metadata": {},
   "source": [
    "To simulate a binomial distribution with 10 trials and a probability of success of 0.6, generate 1,000 samples, plot the distribution, and calculate the mean and variance, you can use the following Python code:\n",
    "\n",
    "```python\n",
    "import numpy as np\n",
    "import matplotlib.pyplot as plt\n",
    "import seaborn as sns\n",
    "\n",
    "# Parameters for the binomial distribution\n",
    "n_trials = 10\n",
    "p_success = 0.6\n",
    "n_samples = 1000\n",
    "\n",
    "# Generate binomial distribution samples\n",
    "samples = np.random.binomial(n_trials, p_success, n_samples)\n",
    "\n",
    "# Calculate mean and variance\n",
    "mean = np.mean(samples)\n",
    "variance = np.var(samples)\n",
    "\n",
    "# Print the results\n",
    "print(f\"Expected Mean: {mean:.2f}\")\n",
    "print(f\"Expected Variance: {variance:.2f}\")\n",
    "\n",
    "# Plot the distribution\n",
    "plt.figure(figsize=(10, 6))\n",
    "sns.histplot(samples, bins=np.arange(-0.5, n_trials + 1.5, 1), stat=\"density\", kde=False)\n",
    "plt.title('Binomial Distribution (n=10, p=0.6)')\n",
    "plt.xlabel('Number of Successes')\n",
    "plt.ylabel('Density')\n",
    "plt.xticks(np.arange(0, n_trials + 1, 1))\n",
    "plt.grid(axis='y')\n",
    "plt.show()\n",
    "```\n",
    "\n",
    "### Explanation of the Code\n",
    "1. **Imports**: We import necessary libraries: `numpy` for numerical operations, `matplotlib.pyplot` for plotting, and `seaborn` for better visual aesthetics.\n",
    "2. **Parameters**: Define the number of trials (`n_trials`), the probability of success (`p_success`), and the number of samples (`n_samples`).\n",
    "3. **Sampling**: Use `np.random.binomial()` to generate the samples from the binomial distribution.\n",
    "4. **Mean and Variance**: Calculate the mean and variance of the generated samples using `np.mean()` and `np.var()`.\n",
    "5. **Plotting**: Use `sns.histplot()` to plot the histogram of the samples.\n"
   ]
  },
  {
   "cell_type": "code",
   "execution_count": null,
   "id": "95731e0b-2deb-4787-bf3a-bdebe844840f",
   "metadata": {},
   "outputs": [],
   "source": []
  }
 ],
 "metadata": {
  "kernelspec": {
   "display_name": "Python 3 (ipykernel)",
   "language": "python",
   "name": "python3"
  },
  "language_info": {
   "codemirror_mode": {
    "name": "ipython",
    "version": 3
   },
   "file_extension": ".py",
   "mimetype": "text/x-python",
   "name": "python",
   "nbconvert_exporter": "python",
   "pygments_lexer": "ipython3",
   "version": "3.12.4"
  }
 },
 "nbformat": 4,
 "nbformat_minor": 5
}
